{
  "nbformat": 4,
  "nbformat_minor": 0,
  "metadata": {
    "colab": {
      "name": "ЧайниковКМ Генератор текста",
      "provenance": [],
      "collapsed_sections": []
    },
    "kernelspec": {
      "name": "python3",
      "display_name": "Python 3"
    }
  },
  "cells": [
    {
      "cell_type": "markdown",
      "metadata": {
        "id": "OaKqT9WljeFR",
        "colab_type": "text"
      },
      "source": [
        "Импортируем библиотеки"
      ]
    },
    {
      "cell_type": "code",
      "metadata": {
        "id": "pzMsfStsM4gD",
        "colab_type": "code",
        "colab": {}
      },
      "source": [
        "import re \n",
        "from collections import defaultdict\n",
        "import random\n",
        "from bs4 import BeautifulSoup\n",
        "import requests"
      ],
      "execution_count": 1,
      "outputs": []
    },
    {
      "cell_type": "markdown",
      "metadata": {
        "id": "W7XWVlTLjhRb",
        "colab_type": "text"
      },
      "source": [
        "Создаём биграмную модель через класс"
      ]
    },
    {
      "cell_type": "code",
      "metadata": {
        "id": "_zmtv0TgJ_gi",
        "colab_type": "code",
        "colab": {}
      },
      "source": [
        "class Bigram():\n",
        "\n",
        "    def __init__(self):\n",
        "        self.corpus = ''\n",
        "        self.dict_bigrams = defaultdict(list)\n",
        "\n",
        "    def fit(self, corpus):\n",
        "        assert isinstance(corpus, str), 'в fit должна подаваться строка'\n",
        "        assert '.' in corpus, 'в тексте обязательно должна быть хотя бы одна точка'\n",
        "\n",
        "        self.corpus = re.compile('[^a-zA-Z0-9а-яА-Я. ]').sub('', corpus.lower())\n",
        "        self.corpus = self.corpus.replace('.', ' [END] [START]')\n",
        "        self.corpus = '[START] '+ self.corpus\n",
        "        self.corpus = self.corpus.split()\n",
        "        for first_word, second_word in zip(self.corpus, self.corpus[1:]):\n",
        "            self.dict_bigrams[first_word].append(second_word)\n",
        "\n",
        "    def generate(self):\n",
        "        assert self.corpus != '', 'Нельзя применять методы genetate не обучив модель с помощью метода fit'\n",
        "\n",
        "        first_word = \"[START]\"\n",
        "        result = []\n",
        "        while True:\n",
        "            next_word_candidates = self.dict_bigrams[first_word]   \n",
        "            first_word = random.choice(next_word_candidates)  \n",
        "            result.append(first_word)                         \n",
        "            if first_word == \"[END]\": return \" \".join(result[:-1]) + '.'    "
      ],
      "execution_count": 162,
      "outputs": []
    },
    {
      "cell_type": "markdown",
      "metadata": {
        "id": "cUexcZWOnAaT",
        "colab_type": "text"
      },
      "source": [
        "Возьмём в качестве корпуса текста обзор Supreme Commander на сайте Stopgame.ru"
      ]
    },
    {
      "cell_type": "code",
      "metadata": {
        "id": "rT-tQx07XacU",
        "colab_type": "code",
        "colab": {}
      },
      "source": [
        "url = \"https://stopgame.ru/show/20664/supreme_commander_review\"\n",
        "html = requests.get(url).text\n",
        "soup = BeautifulSoup(html, 'html5lib')\n",
        "corpus =  soup.find('section', attrs={ \"class\" : \"article article-show\"} ).text"
      ],
      "execution_count": 119,
      "outputs": []
    },
    {
      "cell_type": "markdown",
      "metadata": {
        "id": "R2ODT3oSnLp1",
        "colab_type": "text"
      },
      "source": [
        "Создаём модель и обучим её"
      ]
    },
    {
      "cell_type": "code",
      "metadata": {
        "id": "u6mXWRjfbrYg",
        "colab_type": "code",
        "colab": {}
      },
      "source": [
        "bigram = Bigram()\n",
        "bigram.fit(corpus)"
      ],
      "execution_count": 163,
      "outputs": []
    },
    {
      "cell_type": "markdown",
      "metadata": {
        "id": "sfFh-9oGnPJ0",
        "colab_type": "text"
      },
      "source": [
        "Сгенерируем текст"
      ]
    },
    {
      "cell_type": "code",
      "metadata": {
        "id": "hDAPDpBHbrf8",
        "colab_type": "code",
        "colab": {
          "base_uri": "https://localhost:8080/",
          "height": 35
        },
        "outputId": "5e9fed65-ff8f-41e7-df63-69e61c0f180b"
      },
      "source": [
        "bigram.generate()"
      ],
      "execution_count": 164,
      "outputs": [
        {
          "output_type": "execute_result",
          "data": {
            "application/vnd.google.colaboratory.intrinsic+json": {
              "type": "string"
            },
            "text/plain": [
              "'в богатом выборе тактических возможностей.'"
            ]
          },
          "metadata": {
            "tags": []
          },
          "execution_count": 164
        }
      ]
    },
    {
      "cell_type": "markdown",
      "metadata": {
        "id": "MJnoK0fenRyP",
        "colab_type": "text"
      },
      "source": [
        "Работает!"
      ]
    },
    {
      "cell_type": "code",
      "metadata": {
        "id": "MYZ2Uxs3jx8q",
        "colab_type": "code",
        "colab": {}
      },
      "source": [
        ""
      ],
      "execution_count": null,
      "outputs": []
    }
  ]
}